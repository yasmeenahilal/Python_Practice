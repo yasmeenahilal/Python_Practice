{
 "cells": [
  {
   "cell_type": "code",
   "execution_count": 16,
   "id": "42f68843",
   "metadata": {},
   "outputs": [
    {
     "name": "stdout",
     "output_type": "stream",
     "text": [
      "enter number6\n",
      "enter number7\n",
      "enter number8\n",
      "gretest: 8\n"
     ]
    }
   ],
   "source": [
    "def gretest(a,b,c):\n",
    "    if a>=b and a>=c:\n",
    "        return a\n",
    "    elif  b>=a and b>=c:\n",
    "        return b\n",
    "    else:\n",
    "        return c\n",
    "        \n",
    "num1 = int(input(\"enter number\"))\n",
    "num2 = int(input(\"enter number\"))\n",
    "num3 = int(input(\"enter number\"))\n",
    "greater_num = gretest(num1,num2,num3)\n",
    "print(\"gretest:\",greater_num)\n",
    "     "
   ]
  },
  {
   "cell_type": "code",
   "execution_count": 20,
   "id": "b6526a6b",
   "metadata": {},
   "outputs": [
    {
     "name": "stdout",
     "output_type": "stream",
     "text": [
      "greater number: 66\n"
     ]
    }
   ],
   "source": [
    "def greater_number(x,y,z,):\n",
    "    if x >= y and x >=z:\n",
    "        return x\n",
    "    elif y >=x and y >= z:\n",
    "        return y\n",
    "    else:\n",
    "        return z\n",
    "    \n",
    "num1 = 44\n",
    "num2 = 8\n",
    "num3 = 66\n",
    "gretest_num = greater_number(num1,num2,num3)\n",
    "print(\"greater number:\",gretest_num)"
   ]
  },
  {
   "cell_type": "code",
   "execution_count": 21,
   "id": "afc67427",
   "metadata": {},
   "outputs": [
    {
     "name": "stdout",
     "output_type": "stream",
     "text": [
      "Enter the first number: 8\n",
      "Enter the second number: 7\n",
      "Addition result: 15.0\n",
      "Subtraction result: 1.0\n",
      "Multiplication result: 56.0\n",
      "Division result: 1.1428571428571428\n"
     ]
    }
   ],
   "source": [
    "def perform_calculations(a, b):\n",
    "    addition = a + b\n",
    "    subtraction = a - b\n",
    "    multiplication = a * b\n",
    "    division = a / b\n",
    "    return addition, subtraction, multiplication, division\n",
    "\n",
    "num1 = float(input(\"Enter the first number: \")) \n",
    "num2 = float(input(\"Enter the second number: \"))\n",
    "\n",
    "results = perform_calculations(num1, num2)\n",
    "addition_result, subtraction_result, multiplication_result, division_result = results\n",
    "\n",
    "print(\"Addition result:\", addition_result)\n",
    "print(\"Subtraction result:\", subtraction_result)\n",
    "print(\"Multiplication result:\", multiplication_result)\n",
    "print(\"Division result:\", division_result)\n"
   ]
  },
  {
   "cell_type": "code",
   "execution_count": 5,
   "id": "f18952dd",
   "metadata": {},
   "outputs": [
    {
     "name": "stdout",
     "output_type": "stream",
     "text": [
      "woof\n",
      "meow\n",
      "quck\n"
     ]
    }
   ],
   "source": [
    "class Animal:\n",
    "    def sound(self):\n",
    "        pass\n",
    "    \n",
    "class Dog(Animal):\n",
    "    def sound(self):\n",
    "        return \"woof\"\n",
    "    \n",
    "class cat(Animal):\n",
    "    def sound(self):\n",
    "        return \"meow\"\n",
    "    \n",
    "class duck(Animal):\n",
    "    def sound(self):\n",
    "        return \"quck\"\n",
    "    \n",
    "Dog = Dog()\n",
    "cat = cat()\n",
    "duck =duck()\n",
    "\n",
    "print(Dog.sound())\n",
    "print(cat.sound())\n",
    "print(duck.sound())"
   ]
  },
  {
   "cell_type": "code",
   "execution_count": 6,
   "id": "e0cf8e81",
   "metadata": {},
   "outputs": [
    {
     "name": "stdout",
     "output_type": "stream",
     "text": [
      "Drawing a generic shape.\n",
      "Drawing a circle.\n"
     ]
    }
   ],
   "source": [
    "class Shape:\n",
    "    def draw(self):\n",
    "        print(\"Drawing a generic shape.\")\n",
    "\n",
    "class Circle(Shape):\n",
    "    def draw(self):\n",
    "        print(\"Drawing a circle.\")\n",
    "\n",
    "shape = Shape()\n",
    "circle = Circle()\n",
    "\n",
    "shape.draw()   \n",
    "circle.draw()  \n"
   ]
  },
  {
   "cell_type": "code",
   "execution_count": 9,
   "id": "46cb7e20",
   "metadata": {},
   "outputs": [
    {
     "name": "stdout",
     "output_type": "stream",
     "text": [
      "draw shape.\n",
      "draw rectangle.\n"
     ]
    }
   ],
   "source": [
    "class shape:\n",
    "    def method(self):\n",
    "        print(\"draw shape.\")\n",
    "        \n",
    "class rectangle(shape):\n",
    "    def method(self):\n",
    "        print(\"draw rectangle.\")\n",
    "        \n",
    "shape = shape()\n",
    "rectangle = rectangle()\n",
    "\n",
    "shape.method()\n",
    "rectangle.method()"
   ]
  },
  {
   "cell_type": "code",
   "execution_count": 10,
   "id": "349eab79",
   "metadata": {},
   "outputs": [
    {
     "name": "stdout",
     "output_type": "stream",
     "text": [
      "Salary of Full-Time Employee: 5000\n",
      "Salary of Hourly Employee: 3200\n"
     ]
    }
   ],
   "source": [
    "class Employee:\n",
    "    def __init__(self, name):\n",
    "        self.name = name\n",
    "\n",
    "    def calculate_salary(self):\n",
    "        pass\n",
    "\n",
    "class FullTimeEmployee(Employee):\n",
    "    def __init__(self, name, monthly_salary):\n",
    "        super().__init__(name)\n",
    "        self.monthly_salary = monthly_salary\n",
    "\n",
    "    def calculate_salary(self):\n",
    "        return self.monthly_salary\n",
    "\n",
    "class HourlyEmployee(Employee):\n",
    "    def __init__(self, name, hours_worked, hourly_rate):\n",
    "        super().__init__(name)\n",
    "        self.hours_worked = hours_worked\n",
    "        self.hourly_rate = hourly_rate\n",
    "\n",
    "    def calculate_salary(self):\n",
    "        return self.hours_worked * self.hourly_rate\n",
    "\n",
    "\n",
    "full_time_employee = FullTimeEmployee(\"John Doe\", 5000)\n",
    "hourly_employee = HourlyEmployee(\"Jane Smith\", 160, 20)\n",
    "\n",
    "print(\"Salary of Full-Time Employee:\", full_time_employee.calculate_salary())\n",
    "print(\"Salary of Hourly Employee:\", hourly_employee.calculate_salary())\n"
   ]
  },
  {
   "cell_type": "code",
   "execution_count": null,
   "id": "f478277c",
   "metadata": {},
   "outputs": [],
   "source": []
  }
 ],
 "metadata": {
  "kernelspec": {
   "display_name": "Python 3 (ipykernel)",
   "language": "python",
   "name": "python3"
  },
  "language_info": {
   "codemirror_mode": {
    "name": "ipython",
    "version": 3
   },
   "file_extension": ".py",
   "mimetype": "text/x-python",
   "name": "python",
   "nbconvert_exporter": "python",
   "pygments_lexer": "ipython3",
   "version": "3.9.13"
  }
 },
 "nbformat": 4,
 "nbformat_minor": 5
}
