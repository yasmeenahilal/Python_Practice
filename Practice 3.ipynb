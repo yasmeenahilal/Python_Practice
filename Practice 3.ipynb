{
 "cells": [
  {
   "cell_type": "code",
   "execution_count": 1,
   "id": "2f19a858",
   "metadata": {},
   "outputs": [],
   "source": [
    "#write a function name multiply that takes 2 no. as input an return there production"
   ]
  },
  {
   "cell_type": "code",
   "execution_count": 2,
   "id": "d50ebb3e",
   "metadata": {},
   "outputs": [
    {
     "name": "stdout",
     "output_type": "stream",
     "text": [
      "enter first number4\n",
      "enter second number3\n"
     ]
    },
    {
     "data": {
      "text/plain": [
       "12"
      ]
     },
     "execution_count": 2,
     "metadata": {},
     "output_type": "execute_result"
    }
   ],
   "source": [
    "def multiply():\n",
    "    num1 = int(input(\"enter first number\"))\n",
    "    num2 = int(input(\"enter second number\"))\n",
    "    return num1*num2\n",
    "multiply()"
   ]
  },
  {
   "cell_type": "markdown",
   "id": "cfcf6905",
   "metadata": {},
   "source": [
    "def function():\n",
    "    num1 = int(input(\"enter one number\"))\n",
    "    num2 = int(input(\"enter second number\"))\n",
    "    return num1+num2\n",
    "function()    "
   ]
  },
  {
   "cell_type": "code",
   "execution_count": 3,
   "id": "1a128ec4",
   "metadata": {},
   "outputs": [
    {
     "name": "stdout",
     "output_type": "stream",
     "text": [
      "enter one number4\n",
      "enter second number3\n"
     ]
    },
    {
     "data": {
      "text/plain": [
       "1"
      ]
     },
     "execution_count": 3,
     "metadata": {},
     "output_type": "execute_result"
    }
   ],
   "source": [
    "def function():\n",
    "    num1 = int(input(\"enter one number\"))\n",
    "    num2 = int(input(\"enter second number\"))\n",
    "    return num1%num2\n",
    "function()"
   ]
  },
  {
   "cell_type": "markdown",
   "id": "96b74304",
   "metadata": {},
   "source": [
    "# Define a function called is_even that takes an integer as an argument and returns True if the number is even and False otherwise."
   ]
  },
  {
   "cell_type": "code",
   "execution_count": 4,
   "id": "e2046329",
   "metadata": {},
   "outputs": [
    {
     "name": "stdout",
     "output_type": "stream",
     "text": [
      "even\n"
     ]
    }
   ],
   "source": [
    "def is_even(num):\n",
    "    if num%2 == 0:\n",
    "        print('even')\n",
    "    else:\n",
    "        print('odd')\n",
    "  \n",
    "is_even(8)"
   ]
  },
  {
   "cell_type": "markdown",
   "id": "ac4fa1ce",
   "metadata": {},
   "source": [
    "# Create a function named average that takes a list of numbers as input and returns the average (mean) of those numbers# "
   ]
  },
  {
   "cell_type": "code",
   "execution_count": null,
   "id": "978040b1",
   "metadata": {},
   "outputs": [],
   "source": [
    "def average():\n",
    "    total = 0\n",
    "    number=[]\n",
    "    for i in range(0,4):\n",
    "        num = int (input(\"enter number\"))\n",
    "        number.append(num)\n",
    "    for i in number: \n",
    "        total = total+ 3\n",
    "average()        "
   ]
  },
  {
   "cell_type": "code",
   "execution_count": null,
   "id": "71f2025a",
   "metadata": {},
   "outputs": [],
   "source": [
    "def average():\n",
    "    total = 0\n",
    "    number = []\n",
    "    for i in range(0,3):\n",
    "        num =int(input(\"enter the number\"))\n",
    "        number.append(num)\n",
    "\n",
    "    for i in number:\n",
    "        total = total+i3,\n",
    "average()    "
   ]
  },
  {
   "cell_type": "code",
   "execution_count": 6,
   "id": "ea473811",
   "metadata": {},
   "outputs": [
    {
     "name": "stdout",
     "output_type": "stream",
     "text": [
      "[2, 3]\n"
     ]
    }
   ],
   "source": [
    "my_list = [1,2,3,4,5]\n",
    "sublist = my_list[1:3]\n",
    "print(sublist)"
   ]
  },
  {
   "cell_type": "code",
   "execution_count": 7,
   "id": "209814ad",
   "metadata": {},
   "outputs": [
    {
     "name": "stdout",
     "output_type": "stream",
     "text": [
      "[4, 5, 6]\n"
     ]
    }
   ],
   "source": [
    "my_list = [1,2,3,4,5,6,7,8]\n",
    "sublist = my_list[3:6]\n",
    "print(sublist)"
   ]
  },
  {
   "cell_type": "code",
   "execution_count": 8,
   "id": "80cf2289",
   "metadata": {},
   "outputs": [
    {
     "name": "stdout",
     "output_type": "stream",
     "text": [
      "[2, 3, 4, 5]\n"
     ]
    }
   ],
   "source": [
    "my_list = [1,2,3,4,5,6,7]\n",
    "sublist = my_list[1:5]\n",
    "print(sublist)"
   ]
  },
  {
   "cell_type": "code",
   "execution_count": 9,
   "id": "ac1d69cf",
   "metadata": {},
   "outputs": [
    {
     "name": "stdout",
     "output_type": "stream",
     "text": [
      "[3, 4, 5]\n"
     ]
    }
   ],
   "source": [
    "my_list = [1,2,3,4,5,6,7,8,9]\n",
    "sublist = my_list[2:5]\n",
    "print(sublist)"
   ]
  },
  {
   "cell_type": "code",
   "execution_count": 10,
   "id": "b37d5ca1",
   "metadata": {},
   "outputs": [
    {
     "name": "stdout",
     "output_type": "stream",
     "text": [
      "['banana', 'orange', 'grap']\n"
     ]
    }
   ],
   "source": [
    "fruits = [\"apple\",\"banana\",\"orange\",\"grap\",\"kiwi\"]\n",
    "new_fruits = fruits[1:4]\n",
    "print(new_fruits)"
   ]
  },
  {
   "cell_type": "code",
   "execution_count": 11,
   "id": "12542307",
   "metadata": {},
   "outputs": [
    {
     "name": "stdout",
     "output_type": "stream",
     "text": [
      "[2, 4, 6, 8]\n"
     ]
    }
   ],
   "source": [
    "my_list = [1,2,3,4,5,6,7,8,9]\n",
    "even = my_list[1::2]\n",
    "print(even)"
   ]
  },
  {
   "cell_type": "code",
   "execution_count": 12,
   "id": "efd03ad6",
   "metadata": {},
   "outputs": [
    {
     "name": "stdout",
     "output_type": "stream",
     "text": [
      "[30, 20]\n"
     ]
    }
   ],
   "source": [
    "my_list = [10,20,30,40,50]\n",
    "sublist=my_list[2:0:-1]\n",
    "print(sublist)"
   ]
  },
  {
   "cell_type": "code",
   "execution_count": 13,
   "id": "6f5faee3",
   "metadata": {},
   "outputs": [
    {
     "name": "stdout",
     "output_type": "stream",
     "text": [
      "[50, 40]\n"
     ]
    }
   ],
   "source": [
    "my_list = [10,20,30,40,50,60]\n",
    "sublist = my_list[4:2:-1]\n",
    "print(sublist)"
   ]
  },
  {
   "cell_type": "code",
   "execution_count": 14,
   "id": "b2d1e9e5",
   "metadata": {},
   "outputs": [
    {
     "name": "stdout",
     "output_type": "stream",
     "text": [
      "[80, 70, 60]\n"
     ]
    }
   ],
   "source": [
    "my_list = [10,20,30,40,50,60,70,80,90]\n",
    "sublist= my_list[7:4:-1]\n",
    "print(sublist)"
   ]
  },
  {
   "cell_type": "code",
   "execution_count": 15,
   "id": "76d077a7",
   "metadata": {},
   "outputs": [
    {
     "name": "stdout",
     "output_type": "stream",
     "text": [
      "[3, 6, 9]\n"
     ]
    }
   ],
   "source": [
    "my_list = [1,2,3,4,5,6,7,8,9,10,11]\n",
    "sublist = my_list[2:10:3]\n",
    "print(sublist)  \n"
   ]
  },
  {
   "cell_type": "code",
   "execution_count": 16,
   "id": "32c86d1f",
   "metadata": {},
   "outputs": [
    {
     "name": "stdout",
     "output_type": "stream",
     "text": [
      "[4, 6]\n"
     ]
    }
   ],
   "source": [
    "my_list = [1,2,3,4,5,6,7,8,9,10,11,12]\n",
    "sublist=my_list[3:6:2]\n",
    "print(sublist)"
   ]
  },
  {
   "cell_type": "code",
   "execution_count": 17,
   "id": "277d914b",
   "metadata": {},
   "outputs": [
    {
     "name": "stdout",
     "output_type": "stream",
     "text": [
      "('johan', 22)\n"
     ]
    }
   ],
   "source": [
    "def name_and_age():\n",
    "    name=\"johan\"\n",
    "    age=22\n",
    "    return name,age\n",
    "\n",
    "\n",
    "person=name_and_age()\n",
    "print(person)"
   ]
  },
  {
   "cell_type": "code",
   "execution_count": 18,
   "id": "2a03d98a",
   "metadata": {},
   "outputs": [
    {
     "name": "stdout",
     "output_type": "stream",
     "text": [
      "(10, 111)\n"
     ]
    }
   ],
   "source": [
    "def classs_reg():\n",
    "    classs = 10\n",
    "    reg = 111\n",
    "    return classs,reg\n",
    "    \n",
    "student = classs_reg()\n",
    "print(student)"
   ]
  },
  {
   "cell_type": "code",
   "execution_count": 19,
   "id": "fc4d583c",
   "metadata": {},
   "outputs": [
    {
     "name": "stdout",
     "output_type": "stream",
     "text": [
      "10\n",
      "9\n",
      "8\n",
      "7\n",
      "6\n",
      "5\n",
      "4\n",
      "3\n",
      "2\n"
     ]
    }
   ],
   "source": [
    "for i in range(10,1,-1):\n",
    "    print(i)"
   ]
  },
  {
   "cell_type": "markdown",
   "id": "e3c77444",
   "metadata": {},
   "source": [
    "#    A function that adds two numbers and returns the result:"
   ]
  },
  {
   "cell_type": "code",
   "execution_count": 20,
   "id": "db01547f",
   "metadata": {},
   "outputs": [
    {
     "name": "stdout",
     "output_type": "stream",
     "text": [
      "7\n"
     ]
    }
   ],
   "source": [
    "def number(x,y):\n",
    "    return x+y\n",
    "\n",
    "result= number(3,4)\n",
    "print(result)   "
   ]
  },
  {
   "cell_type": "code",
   "execution_count": 21,
   "id": "1ce1f872",
   "metadata": {},
   "outputs": [
    {
     "name": "stdout",
     "output_type": "stream",
     "text": [
      "9\n"
     ]
    }
   ],
   "source": [
    "def add_number(x,y):\n",
    "    return x+y\n",
    "\n",
    "result = add_number(7,2)\n",
    "print(result)"
   ]
  },
  {
   "cell_type": "markdown",
   "id": "2db9a22f",
   "metadata": {},
   "source": [
    "#    A function that checks if a number is even or odd:"
   ]
  },
  {
   "cell_type": "code",
   "execution_count": 22,
   "id": "b8422fca",
   "metadata": {},
   "outputs": [
    {
     "name": "stdout",
     "output_type": "stream",
     "text": [
      "True\n",
      "False\n"
     ]
    }
   ],
   "source": [
    "def is_even(num):\n",
    "    if num % 2 == 0:\n",
    "        return True\n",
    "    else:\n",
    "        return False\n",
    "    \n",
    "print(is_even(8))\n",
    "print(is_even(5))"
   ]
  },
  {
   "cell_type": "markdown",
   "id": "364f454e",
   "metadata": {},
   "source": [
    "#    A function that calculates the factorial of a number:"
   ]
  },
  {
   "cell_type": "code",
   "execution_count": 23,
   "id": "fee74d4a",
   "metadata": {},
   "outputs": [
    {
     "name": "stdout",
     "output_type": "stream",
     "text": [
      "120\n"
     ]
    }
   ],
   "source": [
    "def factorial(num):\n",
    "    if num == 0 or num == 1:\n",
    "        return 1\n",
    "    else:\n",
    "        return num * factorial(num-1)\n",
    "    \n",
    "print(factorial(5))    "
   ]
  },
  {
   "cell_type": "markdown",
   "id": "561901ac",
   "metadata": {},
   "source": [
    "#    A function that prints a given message a specified number of times:"
   ]
  },
  {
   "cell_type": "code",
   "execution_count": 24,
   "id": "4da92606",
   "metadata": {},
   "outputs": [
    {
     "name": "stdout",
     "output_type": "stream",
     "text": [
      "Hello, world!\n",
      "Hello, world!\n",
      "Hello, world!\n"
     ]
    }
   ],
   "source": [
    "def given_message(message,times):\n",
    "    for i in range(times):\n",
    "        print(message)\n",
    "        \n",
    "given_message(\"Hello, world!\",3)"
   ]
  },
  {
   "cell_type": "code",
   "execution_count": 25,
   "id": "4c05c058",
   "metadata": {},
   "outputs": [
    {
     "name": "stdout",
     "output_type": "stream",
     "text": [
      "Hello, world!\n",
      "Hello, world!\n",
      "Hello, world!\n"
     ]
    }
   ],
   "source": [
    "def print_message(message, times):\n",
    "    for i in range(times):\n",
    "        print(message)\n",
    "\n",
    "print_message(\"Hello, world!\", 3)\n"
   ]
  },
  {
   "cell_type": "markdown",
   "id": "5fa09260",
   "metadata": {},
   "source": [
    "#    A function that reverses a string:"
   ]
  },
  {
   "cell_type": "code",
   "execution_count": 26,
   "id": "13226203",
   "metadata": {},
   "outputs": [
    {
     "name": "stdout",
     "output_type": "stream",
     "text": [
      "!dlrow,olleH\n"
     ]
    }
   ],
   "source": [
    "def reverse_string(string):\n",
    "    return string[::-1]\n",
    "\n",
    "result = reverse_string(\"Hello,world!\")\n",
    "print(result)"
   ]
  },
  {
   "cell_type": "code",
   "execution_count": 27,
   "id": "68610f9d",
   "metadata": {},
   "outputs": [
    {
     "name": "stdout",
     "output_type": "stream",
     "text": [
      "!dlrow,olleH\n"
     ]
    }
   ],
   "source": [
    "def reverse_string(string):\n",
    "    return string[::-1]\n",
    "result=reverse_string(\"Hello,world!\")\n",
    "print(result)"
   ]
  },
  {
   "cell_type": "markdown",
   "id": "b441d652",
   "metadata": {},
   "source": [
    "### Function to check the input is prime number or not"
   ]
  },
  {
   "cell_type": "code",
   "execution_count": null,
   "id": "dedd1c98",
   "metadata": {},
   "outputs": [],
   "source": [
    "def is_prime():\n",
    "    num = int(input(\"Enter number \"))\n",
    "    count = 0\n",
    "    \n",
    "    for i in range(2,num+1):\n",
    "        if num%i == 0:\n",
    "            count+=1\n",
    "    if count == 1:\n",
    "        print(\"Prime Number\")\n",
    "    else:\n",
    "        print(\"Not Prime Number\")\n",
    "        \n",
    "        \n",
    "is_prime()    "
   ]
  },
  {
   "cell_type": "code",
   "execution_count": 29,
   "id": "5fa2681b",
   "metadata": {},
   "outputs": [
    {
     "name": "stdout",
     "output_type": "stream",
     "text": [
      "9\n"
     ]
    }
   ],
   "source": [
    "def add_numbers(x,y):\n",
    "    return (x+y)\n",
    "result = add_numbers(3,6)\n",
    "print (result)"
   ]
  },
  {
   "cell_type": "code",
   "execution_count": 30,
   "id": "675afea7",
   "metadata": {},
   "outputs": [
    {
     "name": "stdout",
     "output_type": "stream",
     "text": [
      "12\n"
     ]
    }
   ],
   "source": [
    "def add_numbers(x,y,z):\n",
    "    return(x+y+z)\n",
    "result = add_numbers(3,4,5)\n",
    "print(result)"
   ]
  },
  {
   "cell_type": "code",
   "execution_count": 31,
   "id": "50f8e410",
   "metadata": {},
   "outputs": [
    {
     "name": "stdout",
     "output_type": "stream",
     "text": [
      "False\n",
      "True\n"
     ]
    }
   ],
   "source": [
    "def is_even(number):\n",
    "    if number % 2 == 0:\n",
    "        return True\n",
    "    else:\n",
    "        return False\n",
    "print(is_even(7))\n",
    "print(is_even(8))"
   ]
  },
  {
   "cell_type": "code",
   "execution_count": 34,
   "id": "7ea931aa",
   "metadata": {},
   "outputs": [
    {
     "name": "stdout",
     "output_type": "stream",
     "text": [
      "False\n",
      "False\n"
     ]
    }
   ],
   "source": [
    "def is_even(number):\n",
    "    if number% 2 ==0:\n",
    "        return True\n",
    "    else:\n",
    "        return False\n",
    "    \n",
    "print(is_even(7))\n",
    "print(is_even(9))"
   ]
  },
  {
   "cell_type": "code",
   "execution_count": 38,
   "id": "da509198",
   "metadata": {},
   "outputs": [
    {
     "name": "stdout",
     "output_type": "stream",
     "text": [
      "enter number5\n",
      "odd\n"
     ]
    }
   ],
   "source": [
    "def new_number():\n",
    "    num = int(input(\"enter number\"))\n",
    "    if num% 2 == 0:\n",
    "        print(\"even\")\n",
    "    else:\n",
    "        print(\"odd\")\n",
    "        \n",
    "new_number()        "
   ]
  },
  {
   "cell_type": "code",
   "execution_count": 44,
   "id": "9649f933",
   "metadata": {},
   "outputs": [
    {
     "name": "stdout",
     "output_type": "stream",
     "text": [
      "Helloworld!\n",
      "Helloworld!\n",
      "Helloworld!\n"
     ]
    }
   ],
   "source": [
    "def new_message(message,times):\n",
    "    for i in range(times):\n",
    "        print(message)\n",
    "\n",
    "new_message(\"Hello\"\"world!\",3)        "
   ]
  },
  {
   "cell_type": "code",
   "execution_count": 47,
   "id": "1af6374c",
   "metadata": {},
   "outputs": [
    {
     "name": "stdout",
     "output_type": "stream",
     "text": [
      "The car engine is starting.\n"
     ]
    }
   ],
   "source": [
    "class Car:\n",
    "    def __init__(self, make, model, year):\n",
    "        self.make = make\n",
    "        self.model = model\n",
    "        self.year = year\n",
    "    \n",
    "    def start_engine(self):\n",
    "        print(\"The car engine is starting.\")\n",
    "        \n",
    "my_car = Car(\"Toyota\", \"Camry\", 2022)\n",
    "my_car.start_engine()\n"
   ]
  },
  {
   "cell_type": "code",
   "execution_count": 1,
   "id": "7e51b853",
   "metadata": {},
   "outputs": [
    {
     "name": "stdout",
     "output_type": "stream",
     "text": [
      "Key 'name' exists!\n"
     ]
    }
   ],
   "source": [
    "my_dict = {\"name\": \"John\", \"age\": 25}\n",
    "\n",
    "if \"name\" in my_dict:\n",
    "    print(\"Key 'name' exists!\")\n",
    "else:\n",
    "    print(\"Key 'name' does not exist!\")\n"
   ]
  },
  {
   "cell_type": "code",
   "execution_count": null,
   "id": "009e51c7",
   "metadata": {},
   "outputs": [],
   "source": []
  }
 ],
 "metadata": {
  "kernelspec": {
   "display_name": "Python 3 (ipykernel)",
   "language": "python",
   "name": "python3"
  },
  "language_info": {
   "codemirror_mode": {
    "name": "ipython",
    "version": 3
   },
   "file_extension": ".py",
   "mimetype": "text/x-python",
   "name": "python",
   "nbconvert_exporter": "python",
   "pygments_lexer": "ipython3",
   "version": "3.9.13"
  }
 },
 "nbformat": 4,
 "nbformat_minor": 5
}
