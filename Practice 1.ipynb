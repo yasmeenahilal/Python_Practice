{
 "cells": [
  {
   "cell_type": "markdown",
   "id": "b058c605",
   "metadata": {},
   "source": [
    "# OOP Practice"
   ]
  },
  {
   "cell_type": "code",
   "execution_count": 1,
   "id": "b15671de",
   "metadata": {},
   "outputs": [
    {
     "name": "stdout",
     "output_type": "stream",
     "text": [
      "0\n",
      "1\n",
      "2\n",
      "3\n",
      "4\n",
      "5\n",
      "6\n",
      "7\n",
      "8\n",
      "9\n"
     ]
    }
   ],
   "source": [
    "def for_loop():\n",
    "  for i in range(10):\n",
    "    print(i)\n",
    "    \n",
    "for_loop()"
   ]
  },
  {
   "cell_type": "code",
   "execution_count": 2,
   "id": "43123516",
   "metadata": {},
   "outputs": [
    {
     "name": "stdout",
     "output_type": "stream",
     "text": [
      "p\n",
      "y\n",
      "t\n",
      "h\n",
      "o\n",
      "n\n"
     ]
    }
   ],
   "source": [
    "for x in 'python':\n",
    "    print(x)"
   ]
  },
  {
   "cell_type": "code",
   "execution_count": 3,
   "id": "b44b8f3a",
   "metadata": {},
   "outputs": [
    {
     "name": "stdout",
     "output_type": "stream",
     "text": [
      "0\n",
      "1\n",
      "2\n",
      "3\n"
     ]
    }
   ],
   "source": [
    "values = range(4)\n",
    "for i in values:\n",
    "    print(i)"
   ]
  },
  {
   "cell_type": "code",
   "execution_count": 4,
   "id": "bfa184a9",
   "metadata": {},
   "outputs": [
    {
     "name": "stdout",
     "output_type": "stream",
     "text": [
      "0\n",
      "1\n",
      "2\n",
      "3\n"
     ]
    }
   ],
   "source": [
    "# use of range() to define a range of values\n",
    "values = range(4)\n",
    "\n",
    "# iterate from i = 0 to i = 3\n",
    "for i in values:\n",
    "    print(i)"
   ]
  },
  {
   "cell_type": "code",
   "execution_count": 5,
   "id": "7516f9ae",
   "metadata": {},
   "outputs": [
    {
     "name": "stdout",
     "output_type": "stream",
     "text": [
      "hello\n",
      "hii\n",
      "hello\n",
      "hii\n",
      "hello\n",
      "hii\n"
     ]
    }
   ],
   "source": [
    "languages = ['python','java','go']\n",
    "for language in languages:\n",
    "  print('hello')\n",
    "  print('hii')  "
   ]
  },
  {
   "cell_type": "code",
   "execution_count": 6,
   "id": "2da6f77e",
   "metadata": {},
   "outputs": [
    {
     "name": "stdout",
     "output_type": "stream",
     "text": [
      "0\n",
      "1\n",
      "2\n",
      "3\n",
      "nomitems left\n"
     ]
    }
   ],
   "source": [
    "digits = [0,1,2,3]\n",
    "for i in digits:\n",
    "    print(i)\n",
    "else:\n",
    "    print('nomitems left')\n",
    "    "
   ]
  },
  {
   "cell_type": "code",
   "execution_count": 7,
   "id": "9aee1c6a",
   "metadata": {},
   "outputs": [
    {
     "name": "stdout",
     "output_type": "stream",
     "text": [
      "number is positive\n",
      "the if statement is easy\n"
     ]
    }
   ],
   "source": [
    "number = 10\n",
    "if number > 0:\n",
    "    print('number is positive')\n",
    "print('the if statement is easy')    "
   ]
  },
  {
   "cell_type": "code",
   "execution_count": 8,
   "id": "55a874c1",
   "metadata": {},
   "outputs": [
    {
     "name": "stdout",
     "output_type": "stream",
     "text": [
      "number is small\n",
      "number is too small\n"
     ]
    }
   ],
   "source": [
    "number = 8\n",
    "if number >= 0:\n",
    "    print('number is small')\n",
    "print('number is too small')"
   ]
  },
  {
   "cell_type": "code",
   "execution_count": 9,
   "id": "90f82402",
   "metadata": {},
   "outputs": [
    {
     "name": "stdout",
     "output_type": "stream",
     "text": [
      "positive number\n",
      "this statement is always executed\n"
     ]
    }
   ],
   "source": [
    "number = 10\n",
    "if number > 0:\n",
    "    print('positive number')\n",
    "else:\n",
    "    print('negative number')\n",
    "print('this statement is always executed')    \n",
    "    "
   ]
  },
  {
   "cell_type": "code",
   "execution_count": 10,
   "id": "cbf20f2a",
   "metadata": {},
   "outputs": [
    {
     "name": "stdout",
     "output_type": "stream",
     "text": [
      "number is positive\n",
      "number is equal to zero\n"
     ]
    }
   ],
   "source": [
    "number = 10\n",
    "if number > 0:\n",
    "    print('number is positive')\n",
    "else:\n",
    "    print('number is negative')\n",
    "print('number is equal to zero')    "
   ]
  },
  {
   "cell_type": "code",
   "execution_count": 11,
   "id": "003cb919",
   "metadata": {},
   "outputs": [
    {
     "name": "stdout",
     "output_type": "stream",
     "text": [
      "small number\n"
     ]
    }
   ],
   "source": [
    "number =[10 ,20]\n",
    "if number >[10 ,20]:\n",
    "    print('large number')\n",
    "else:\n",
    "    print('small number')"
   ]
  },
  {
   "cell_type": "code",
   "execution_count": 12,
   "id": "63826a4f",
   "metadata": {},
   "outputs": [
    {
     "name": "stdout",
     "output_type": "stream",
     "text": [
      "enter num1:8\n",
      "enter num2:6\n",
      "first number is greater than second number: 8\n"
     ]
    }
   ],
   "source": [
    "num1 = int(input('enter num1:'))\n",
    "num2 = int(input('enter num2:'))\n",
    "if num1>num2:\n",
    "    print('first number is greater than second number:',num1)\n",
    "else:\n",
    "    print('second number is greater than first number:',num2)"
   ]
  },
  {
   "cell_type": "code",
   "execution_count": 13,
   "id": "ae25b7bf",
   "metadata": {},
   "outputs": [],
   "source": [
    "age =[20,30,40]\n",
    "salary = [1000,2000,30000]\n",
    "import matplotlib.pyplot as plt"
   ]
  },
  {
   "cell_type": "code",
   "execution_count": 14,
   "id": "c1fae678",
   "metadata": {},
   "outputs": [
    {
     "data": {
      "text/plain": [
       "<BarContainer object of 3 artists>"
      ]
     },
     "execution_count": 14,
     "metadata": {},
     "output_type": "execute_result"
    },
    {
     "data": {
      "image/png": "[encoded data removed]",
      "text/plain": [
       "<Figure size 640x480 with 1 Axes>"
      ]
     },
     "metadata": {},
     "output_type": "display_data"
    }
   ],
   "source": [
    "plt.bar(age,salary)"
   ]
  },
  {
   "cell_type": "code",
   "execution_count": 15,
   "id": "2d453547",
   "metadata": {},
   "outputs": [],
   "source": [
    "import matplotlib.pyplot as plt\n",
    "cars = [\"BMW\",\"AUDDI\",\"THAR\"]\n",
    "price = [700000,750000,40000]"
   ]
  },
  {
   "cell_type": "code",
   "execution_count": 16,
   "id": "b6885766",
   "metadata": {},
   "outputs": [
    {
     "data": {
      "text/plain": [
       "Text(0.5, 0, 'car')"
      ]
     },
     "execution_count": 16,
     "metadata": {},
     "output_type": "execute_result"
    },
    {
     "data": {
      "image/png": "[encoded data removed]",
      "text/plain": [
       "<Figure size 640x480 with 1 Axes>"
      ]
     },
     "metadata": {},
     "output_type": "display_data"
    }
   ],
   "source": [
    "plt.style.use('ggplot')\n",
    "plt.bar(cars,price)\n",
    "plt.title(\"car price\")\n",
    "plt.ylabel(\"price\")\n",
    "plt.xlabel(\"car\")\n"
   ]
  },
  {
   "cell_type": "code",
   "execution_count": 17,
   "id": "2a050de5",
   "metadata": {},
   "outputs": [
    {
     "name": "stdout",
     "output_type": "stream",
     "text": [
      "enter number4\n",
      "even\n"
     ]
    }
   ],
   "source": [
    "def new_fun():\n",
    "    num = int(input(\"enter number\"))\n",
    "    if num % 2 == 0:\n",
    "        print(\"even\")\n",
    "    else:\n",
    "        print(\"odd\")\n",
    "new_fun()"
   ]
  },
  {
   "cell_type": "code",
   "execution_count": 9,
   "id": "a0f0553d",
   "metadata": {},
   "outputs": [
    {
     "name": "stdout",
     "output_type": "stream",
     "text": [
      "False\n",
      "False\n"
     ]
    }
   ],
   "source": [
    "def new_fun(number):\n",
    "    if number % 2 == 0:\n",
    "        return  True\n",
    "    else:\n",
    "        return False\n",
    "    \n",
    "print(new_fun(7))\n",
    "print(new_fun(5))"
   ]
  },
  {
   "cell_type": "code",
   "execution_count": 18,
   "id": "72647927",
   "metadata": {},
   "outputs": [
    {
     "name": "stdout",
     "output_type": "stream",
     "text": [
      "enter number8\n",
      "even\n"
     ]
    }
   ],
   "source": [
    "def new_number():\n",
    "    num =int(input(\"enter number\"))\n",
    "    if num % 2 == 0:\n",
    "        print(\"even\")\n",
    "        \n",
    "    else:\n",
    "        print(\"odd\")\n",
    "        \n",
    "new_number()        "
   ]
  },
  {
   "cell_type": "markdown",
   "id": "4ac9d41c",
   "metadata": {},
   "source": [
    "# Design a class for a Library Management System, where you have books, borrowers, and librarians. The system should allow checking out books, returning books, and keeping track of the books available in the library."
   ]
  },
  {
   "cell_type": "code",
   "execution_count": 19,
   "id": "69e1cedb",
   "metadata": {},
   "outputs": [
    {
     "name": "stdout",
     "output_type": "stream",
     "text": [
      "Python Programming by John Smith has been checked out by Alice.\n",
      "Data Science Handbook by Jane Doe has been checked out by Bob.\n",
      "Available Books:\n",
      "The Great Gatsby by F. Scott Fitzgerald\n",
      "Python Programming by John Smith has been returned by Alice.\n",
      "Data Science Handbook by Jane Doe has been returned by Bob.\n",
      "Available Books:\n",
      "Python Programming by John Smith\n",
      "Data Science Handbook by Jane Doe\n",
      "The Great Gatsby by F. Scott Fitzgerald\n"
     ]
    }
   ],
   "source": [
    "class Book:\n",
    "    def __init__(self, book_id, title, author):\n",
    "        self.book_id = book_id\n",
    "        self.title = title\n",
    "        self.author = author\n",
    "        self.is_available = True\n",
    "\n",
    "    def __str__(self):\n",
    "        return f\"{self.title} by {self.author}\"\n",
    "\n",
    "class Borrower:\n",
    "    def __init__(self, borrower_id, name):\n",
    "        self.borrower_id = borrower_id\n",
    "        self.name = name\n",
    "\n",
    "class Librarian:\n",
    "    def __init__(self, librarian_id, name):\n",
    "        self.librarian_id = librarian_id\n",
    "        self.name = name\n",
    "\n",
    "class Library:\n",
    "    def __init__(self):\n",
    "        self.books = []\n",
    "        self.borrowers = []\n",
    "        self.librarians = []\n",
    "\n",
    "    def add_book(self, book):\n",
    "        self.books.append(book)\n",
    "\n",
    "    def remove_book(self, book):\n",
    "        if book.is_available:\n",
    "            self.books.remove(book)\n",
    "        else:\n",
    "            print(\"Cannot remove the book. It is currently borrowed.\")\n",
    "\n",
    "    def add_borrower(self, borrower):\n",
    "        self.borrowers.append(borrower)\n",
    "\n",
    "    def remove_borrower(self, borrower):\n",
    "        self.borrowers.remove(borrower)\n",
    "\n",
    "    def add_librarian(self, librarian):\n",
    "        self.librarians.append(librarian)\n",
    "\n",
    "    def remove_librarian(self, librarian):\n",
    "        self.librarians.remove(librarian)\n",
    "\n",
    "    def check_out_book(self, book, borrower):\n",
    "        if book.is_available:\n",
    "            book.is_available = False\n",
    "            print(f\"{book} has been checked out by {borrower.name}.\")\n",
    "        else:\n",
    "            print(\"The book is not available for checkout.\")\n",
    "\n",
    "    def return_book(self, book, borrower):\n",
    "        if not book.is_available:\n",
    "            book.is_available = True\n",
    "            print(f\"{book} has been returned by {borrower.name}.\")\n",
    "        else:\n",
    "            print(\"The book is already available in the library.\")\n",
    "\n",
    "    def display_available_books(self):\n",
    "        available_books = [book for book in self.books if book.is_available]\n",
    "        if available_books:\n",
    "            print(\"Available Books:\")\n",
    "            for book in available_books:\n",
    "                print(book)\n",
    "        else:\n",
    "            print(\"No available books in the library.\")\n",
    "\n",
    "# Usage example\n",
    "library = Library()\n",
    "\n",
    "book1 = Book(1, \"Python Programming\", \"John Smith\")\n",
    "book2 = Book(2, \"Data Science Handbook\", \"Jane Doe\")\n",
    "book3 = Book(3, \"The Great Gatsby\", \"F. Scott Fitzgerald\")\n",
    "\n",
    "library.add_book(book1)\n",
    "library.add_book(book2)\n",
    "library.add_book(book3)\n",
    "\n",
    "borrower1 = Borrower(1, \"Alice\")\n",
    "borrower2 = Borrower(2, \"Bob\")\n",
    "\n",
    "library.add_borrower(borrower1)\n",
    "library.add_borrower(borrower2)\n",
    "\n",
    "librarian1 = Librarian(1, \"Emily\")\n",
    "\n",
    "library.add_librarian(librarian1)\n",
    "\n",
    "library.check_out_book(book1, borrower1)\n",
    "library.check_out_book(book2, borrower2)\n",
    "\n",
    "library.display_available_books()\n",
    "\n",
    "library.return_book(book1, borrower1)\n",
    "library.return_book(book2, borrower2)\n",
    "\n",
    "library.display_available_books()\n"
   ]
  },
  {
   "cell_type": "code",
   "execution_count": 22,
   "id": "5a77e86a",
   "metadata": {
    "scrolled": true
   },
   "outputs": [
    {
     "name": "stdout",
     "output_type": "stream",
     "text": [
      "Enter name: sdrdrdfx\n",
      "Enter no: 7006189435\n",
      "Enter_mail: dssds@gmail\n",
      "Enter Country code: 091\n",
      "Error!!!\n",
      "Name:  sdrdrdfx\n",
      "No.  7006189435\n",
      "E-mail:  dssds@gmail\n"
     ]
    }
   ],
   "source": [
    "class cl_1:\n",
    "    def __init__(self,c,v,n,m):\n",
    "        self.c=c\n",
    "        self.v=v\n",
    "        self.n=n\n",
    "        self.m=m\n",
    "        if self.v[:3]==m and len(self.v)==13:\n",
    "            print(\"{}, Your DATA IS ENTERED\".format(self.c))\n",
    "        else:\n",
    "            print(\"Error!!!\")\n",
    "    def desplay(self):\n",
    "        print(\"Name: \",self.c)\n",
    "        print(\"No. \",self.v)\n",
    "        print(\"E-mail: \",self.n)\n",
    "obj=cl_1(input(\"Enter name: \"),input(\"Enter no: \"),input(\"Enter_mail: \"),input(\"Enter Country code: \"))\n",
    "obj.desplay()\n",
    "        "
   ]
  },
  {
   "cell_type": "code",
   "execution_count": 23,
   "id": "733b5d9a",
   "metadata": {},
   "outputs": [
    {
     "name": "stdout",
     "output_type": "stream",
     "text": [
      "enter name:fddg\n",
      "enter number:7006189435\n",
      "enter email:rdrdxfd@gmail.co\n",
      "enter code:091\n",
      "error\n",
      "name: fddg\n",
      "number: 7006189435\n",
      "email: rdrdxfd@gmail.co\n",
      "code: 091\n"
     ]
    }
   ],
   "source": [
    "class info:\n",
    "    def __init__(self,name,number,email,code):\n",
    "        self.name = name\n",
    "        self.number = number\n",
    "        self.email = email\n",
    "        self.code = code\n",
    "        if self.number[:3]==code and len(self.number)==13:\n",
    "            print(\"enter data\".format(self.name))\n",
    "        else:\n",
    "            print(\"error\")\n",
    "            \n",
    "    def display(self):\n",
    "        print(\"name:\",self.name)\n",
    "        print(\"number:\",self.number)\n",
    "        print(\"email:\",self.email)\n",
    "        print(\"code:\",self.code)\n",
    "obj=info(input(\"enter name:\"),input(\"enter number:\"),input(\"enter email:\"),input(\"enter code:\"))\n",
    "obj.display()\n",
    "        "
   ]
  },
  {
   "cell_type": "code",
   "execution_count": null,
   "id": "31e74381",
   "metadata": {},
   "outputs": [],
   "source": [
    "class student:\n",
    "    def __init__ (self,name,reg):\n",
    "        self.name = name\n",
    "        self.reg = reg\n",
    "    def desplay(self):\n",
    "        print(\"name:\",self.name)\n",
    "        print(\"reg:\",self.reg)\n",
    "        \n",
    "obj = student(input(\"Enter name:\"),input(\"enter reg\"))   \n",
    "obj.desplay()\n",
    "        "
   ]
  },
  {
   "cell_type": "code",
   "execution_count": null,
   "id": "0f2f1b3c",
   "metadata": {},
   "outputs": [],
   "source": [
    "class student:\n",
    "    def __init__(self,name,reg,dep):\n",
    "        self.name = name\n",
    "        self.reg = reg\n",
    "        self.dep = dep\n",
    "        \n",
    "    def display(self):\n",
    "        print(\"name\",self.name)\n",
    "        print(\"reg\",self.reg)\n",
    "        print(\"dep\",self.dep)\n",
    "        \n",
    "obj = student(input(\"enter name:\"),input(\"enter reg:\"),input(\"enter dep:\"))\n",
    "obj.display()"
   ]
  },
  {
   "cell_type": "code",
   "execution_count": null,
   "id": "9238489c",
   "metadata": {},
   "outputs": [],
   "source": [
    "class parent:\n",
    "    def __init__ (self):\n",
    "        self.name = name\n",
    "        self.reg = reg\n",
    "        self.dap = dep\n",
    "        \n",
    "    def display(self):\n",
    "        print(\"name\",self.name)\n",
    "        print(\"reg\",self.reg)\n",
    "        print(\"dep\",self.dep)\n",
    "        \n",
    "        "
   ]
  },
  {
   "cell_type": "markdown",
   "id": "4499ebe8",
   "metadata": {},
   "source": [
    "### INheritance\n",
    "- Single\n",
    "- Multiple\n",
    "- Multilevel\n",
    "- Hyrerical\n",
    "- HYbrid"
   ]
  },
  {
   "cell_type": "markdown",
   "id": "2752cbe1",
   "metadata": {},
   "source": [
    "### Single "
   ]
  },
  {
   "cell_type": "code",
   "execution_count": null,
   "id": "2c8310cf",
   "metadata": {},
   "outputs": [],
   "source": [
    "class pat:\n",
    "    def __init__(self):\n",
    "        print(\"I am parent class\")\n",
    "class ch1(pat):\n",
    "    def fxn(self):\n",
    "        print(\"I am Child class\")\n",
    "obj=ch1()\n",
    "obj.fxn()"
   ]
  },
  {
   "cell_type": "markdown",
   "id": "f2b7de5f",
   "metadata": {},
   "source": [
    "### MUltilevel"
   ]
  },
  {
   "cell_type": "code",
   "execution_count": null,
   "id": "2d9059e1",
   "metadata": {},
   "outputs": [],
   "source": [
    "class grand_pat:\n",
    "    def __init__(self):\n",
    "        print(\"I am GRand parent\")\n",
    "class parent(grand_pat):\n",
    "    def meth_1(self):\n",
    "        print(\"I am Parent class\")\n",
    "        \n",
    "class child(parent):\n",
    "    def meth_2(self):\n",
    "        print(\"I am child class\")\n",
    "ob=child()\n",
    "ob.meth_1()\n",
    "ob.meth_2()"
   ]
  },
  {
   "cell_type": "markdown",
   "id": "584b1ac8",
   "metadata": {},
   "source": [
    "### Multiple"
   ]
  },
  {
   "cell_type": "code",
   "execution_count": null,
   "id": "0361011f",
   "metadata": {},
   "outputs": [],
   "source": [
    "class pat_1:\n",
    "    def __init__(self):\n",
    "        print(\"I am 1st parent\")\n",
    "class pat_2:\n",
    "    def __init__(self):\n",
    "        print(\"I am 2nd parent\")\n",
    "        \n",
    "class ch1(pat_1,pat_2):\n",
    "    print(\"I am child cclass\")\n",
    "    \n",
    "    \n",
    "ob=ch1()"
   ]
  },
  {
   "cell_type": "markdown",
   "id": "b7f2b776",
   "metadata": {},
   "source": [
    "# single inheritance"
   ]
  },
  {
   "cell_type": "code",
   "execution_count": 2,
   "id": "97a0aefc",
   "metadata": {},
   "outputs": [
    {
     "name": "stdout",
     "output_type": "stream",
     "text": [
      "I am animal\n",
      "I am cat\n"
     ]
    }
   ],
   "source": [
    "class animal:\n",
    "    def __init__(self):\n",
    "        print(\"I am animal\")\n",
    "        \n",
    "class cat(animal):\n",
    "    def function(self):\n",
    "        print(\"I am cat\")\n",
    "        \n",
    "obj=cat()  \n",
    "obj.function()"
   ]
  },
  {
   "cell_type": "code",
   "execution_count": null,
   "id": "d05b6ec5",
   "metadata": {},
   "outputs": [],
   "source": [
    "class crow:\n",
    "    def __init__(self):\n",
    "        print(\"I am crow\")\n",
    "        \n",
    "class birds(crow):\n",
    "    def function(self):\n",
    "        print(\"I am bird\")\n",
    "        \n",
    "obj=birds()\n",
    "obj.function()"
   ]
  },
  {
   "cell_type": "code",
   "execution_count": null,
   "id": "a92494d7",
   "metadata": {},
   "outputs": [],
   "source": [
    "## multilevel"
   ]
  },
  {
   "cell_type": "code",
   "execution_count": null,
   "id": "a2b97786",
   "metadata": {},
   "outputs": [],
   "source": [
    "class animal:\n",
    "    def __init__(self):\n",
    "        print(\"I am animal\")\n",
    "        \n",
    "class dog(animal):\n",
    "    def mtd(self):\n",
    "        print(\"I am dog\")\n",
    "        \n",
    "class puppy(dog):\n",
    "    def mtd1(self):\n",
    "        print(\"I am puppy\")\n",
    "        \n",
    "obj=puppy()\n",
    "obj.mtd()\n",
    "obj.mtd1()"
   ]
  },
  {
   "cell_type": "code",
   "execution_count": null,
   "id": "b8f69db5",
   "metadata": {},
   "outputs": [],
   "source": [
    "class Animal:  \n",
    "    def speak (self):  \n",
    "         print(\"Animal Speaking\")  \n",
    "            \n",
    "class Dog(Animal):  \n",
    "        def bark(self):  \n",
    "            print(\"dog barking\")  \n",
    "            \n",
    "class DogChild(Dog):  \n",
    "        def eat(self):  \n",
    "            print(\"Eating bread...\") \n",
    "            \n",
    "d = DogChild()  \n",
    "d.bark()  \n",
    "d.speak()  \n",
    "d.eat()  "
   ]
  },
  {
   "cell_type": "code",
   "execution_count": null,
   "id": "18f00ee5",
   "metadata": {},
   "outputs": [],
   "source": [
    "#multiple"
   ]
  },
  {
   "cell_type": "code",
   "execution_count": null,
   "id": "3ab78f02",
   "metadata": {},
   "outputs": [],
   "source": [
    "class father:\n",
    "    def __init__(self):\n",
    "        print(\"I am father\")\n",
    "        \n",
    "class mother():\n",
    "    def __init__(self):\n",
    "        print(\"I am mother\")\n",
    "        \n",
    "class child(father,mother):\n",
    "    print(\"I am child\")\n",
    "    \n",
    "obj = child()    "
   ]
  },
  {
   "cell_type": "code",
   "execution_count": null,
   "id": "a8f580e7",
   "metadata": {},
   "outputs": [],
   "source": [
    "class m_stu:\n",
    "    def __init__(self):\n",
    "        print(\"we are m_stu\")\n",
    "        \n",
    "class f_stu():\n",
    "    def __init__(self):\n",
    "        print(\"we are m_stu\")\n",
    "        \n",
    "class k_stu(f_stu,m_stu):\n",
    "    print(\"we are k_stu\")\n",
    "    \n",
    "obj=k_stu()    \n",
    "    "
   ]
  },
  {
   "cell_type": "code",
   "execution_count": 3,
   "id": "ed186629",
   "metadata": {},
   "outputs": [
    {
     "name": "stdout",
     "output_type": "stream",
     "text": [
      "i am animal\n",
      "i am cow\n"
     ]
    }
   ],
   "source": [
    "class animal:\n",
    "    def __init__(self):\n",
    "        print(\"i am animal\")\n",
    "        \n",
    "class cow(animal):\n",
    "    def method (self):\n",
    "        print(\"i am cow\")\n",
    "        \n",
    "obj=cow()\n",
    "obj.method()"
   ]
  },
  {
   "cell_type": "code",
   "execution_count": null,
   "id": "b88e58d5",
   "metadata": {},
   "outputs": [],
   "source": []
  }
 ],
 "metadata": {
  "kernelspec": {
   "display_name": "Python 3 (ipykernel)",
   "language": "python",
   "name": "python3"
  },
  "language_info": {
   "codemirror_mode": {
    "name": "ipython",
    "version": 3
   },
   "file_extension": ".py",
   "mimetype": "text/x-python",
   "name": "python",
   "nbconvert_exporter": "python",
   "pygments_lexer": "ipython3",
   "version": "3.9.13"
  }
 },
 "nbformat": 4,
 "nbformat_minor": 5
}
