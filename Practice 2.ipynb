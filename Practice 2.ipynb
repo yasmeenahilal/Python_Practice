{
 "cells": [
  {
   "cell_type": "code",
   "execution_count": null,
   "id": "6f1156c0",
   "metadata": {},
   "outputs": [],
   "source": [
    "def is_prime():\n",
    "    num = int(input(\"Enter number \"))\n",
    "    count = 0\n",
    "    \n",
    "    for i in range(2,num+1):\n",
    "        if num%i == 0:\n",
    "            count+=1\n",
    "    if count == 1:\n",
    "        print(\"Prime Number\")\n",
    "    else:\n",
    "           print(\"Not Prime Number\")\n",
    "        \n",
    "        \n",
    "is_prime()    "
   ]
  },
  {
   "cell_type": "code",
   "execution_count": null,
   "id": "4a0d31f2",
   "metadata": {},
   "outputs": [],
   "source": [
    "class Shape:\n",
    "    def calculate_area(self):\n",
    "        pass\n",
    "\n",
    "class Rectangle(Shape):\n",
    "    def __init__(self, length, width):\n",
    "        self.length = length\n",
    "        self.width = width\n",
    "\n",
    "    def calculate_area(self):\n",
    "        return self.length * self.width\n",
    "\n",
    "class Circle(Shape):\n",
    "    def __init__(self, radius):\n",
    "        self.radius = radius\n",
    "\n",
    "    def calculate_area(self):\n",
    "        return 3.14159 * self.radius * self.radius\n",
    "\n",
    "shapes = [Rectangle(5, 10), Circle(3), Rectangle(2, 2.5)]\n",
    "\n",
    "for shape in shapes:\n",
    "    print(\"Area:\", shape.calculate_area())\n"
   ]
  },
  {
   "cell_type": "code",
   "execution_count": null,
   "id": "c321d50e",
   "metadata": {},
   "outputs": [],
   "source": [
    "def is_prime():\n",
    "    num = int(input(\"enter number\"))\n",
    "    count = 0\n",
    "    for i in range(2,num+1):\n",
    "        if num % 1 == 0:\n",
    "            count+=1\n",
    "    if count==0:\n",
    "        print(\"prime\")\n",
    "        \n",
    "    else:\n",
    "        print(\"not prime\")\n",
    "        \n",
    "is_prime()        "
   ]
  },
  {
   "cell_type": "code",
   "execution_count": null,
   "id": "56e8eb79",
   "metadata": {},
   "outputs": [],
   "source": [
    "def is_even(num):\n",
    "    if num % 2 ==0:\n",
    "        return True\n",
    "    else:\n",
    "        return False\n",
    "    \n",
    "print(is_even(8))\n",
    "print(is_even(4))"
   ]
  },
  {
   "cell_type": "code",
   "execution_count": null,
   "id": "8b77fa2a",
   "metadata": {},
   "outputs": [],
   "source": [
    "def new_num():\n",
    "    num = int(input(\"enter number\"))\n",
    "    if num % 2 ==0:\n",
    "        print (\"even\")\n",
    "    \n",
    "    else:\n",
    "        print(\"odd\")\n",
    "new_num()        "
   ]
  },
  {
   "cell_type": "code",
   "execution_count": null,
   "id": "af465861",
   "metadata": {},
   "outputs": [],
   "source": [
    "def factorial(n):\n",
    "    if n == 0 or n==1:\n",
    "        return 1\n",
    "    else:\n",
    "        return n*factorial(n-1)\n",
    "    \n",
    "print(factorial(2))    "
   ]
  },
  {
   "cell_type": "code",
   "execution_count": null,
   "id": "5c82e771",
   "metadata": {},
   "outputs": [],
   "source": [
    "def reverse(string):\n",
    "    return string [::-1]\n",
    "result= reverse (\"hello!\")\n",
    "print(result)"
   ]
  },
  {
   "cell_type": "code",
   "execution_count": null,
   "id": "acf04f81",
   "metadata": {},
   "outputs": [],
   "source": [
    "def is_prime():\n",
    "    num = int(input(\"Enter number \"))\n",
    "    count = 0\n",
    "    \n",
    "    for i in range(2,num+1):\n",
    "        if num%i == 0:\n",
    "            count+=1\n",
    "    if count == 1:\n",
    "        print(\"Prime Number\")\n",
    "    else:\n",
    "           print(\"Not Prime Number\")\n",
    "        \n",
    "        \n",
    "is_prime()    "
   ]
  },
  {
   "cell_type": "code",
   "execution_count": null,
   "id": "3d30ace7",
   "metadata": {},
   "outputs": [],
   "source": [
    "def is_prime():\n",
    "    num = int (input(\"enter number\"))\n",
    "    count=0\n",
    "    for i in range(2,num+1):\n",
    "        if num % i ==0:\n",
    "            count ==0\n",
    "    if count ==1:\n",
    "        print(\"prime\")\n",
    "    else:\n",
    "        print(\"not\")\n",
    "is_prime()        \n",
    "        "
   ]
  },
  {
   "cell_type": "code",
   "execution_count": null,
   "id": "bfc2b75c",
   "metadata": {},
   "outputs": [],
   "source": []
  }
 ],
 "metadata": {
  "kernelspec": {
   "display_name": "Python 3 (ipykernel)",
   "language": "python",
   "name": "python3"
  },
  "language_info": {
   "codemirror_mode": {
    "name": "ipython",
    "version": 3
   },
   "file_extension": ".py",
   "mimetype": "text/x-python",
   "name": "python",
   "nbconvert_exporter": "python",
   "pygments_lexer": "ipython3",
   "version": "3.9.13"
  }
 },
 "nbformat": 4,
 "nbformat_minor": 5
}
